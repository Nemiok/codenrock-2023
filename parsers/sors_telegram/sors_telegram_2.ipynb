{
 "cells": [
  {
   "cell_type": "code",
   "execution_count": null,
   "metadata": {},
   "outputs": [],
   "source": [
    "# Установка библиотек\n",
    "\n",
    "!pip install transliterate\n",
    "!pip install numpy\n",
    "!pip install pandas"
   ]
  },
  {
   "cell_type": "code",
   "execution_count": null,
   "metadata": {},
   "outputs": [],
   "source": [
    "# Импорт библиотек.\n",
    "\n",
    "import pandas as pd\n",
    "import numpy as np\n",
    "from transliterate import translit, get_available_language_codes"
   ]
  },
  {
   "cell_type": "code",
   "execution_count": null,
   "metadata": {},
   "outputs": [],
   "source": [
    "# Загрузка данных.\n",
    "\n",
    "data = pd.read_json('result.json')"
   ]
  },
  {
   "cell_type": "code",
   "execution_count": null,
   "metadata": {},
   "outputs": [],
   "source": [
    "# Сборка основного датафрейма.\n",
    "\n",
    "listing = []\n",
    "for i in range(len(data)):\n",
    "    listing.append(data['messages'][i])\n",
    "message_data = pd.DataFrame(listing)"
   ]
  },
  {
   "cell_type": "code",
   "execution_count": null,
   "metadata": {},
   "outputs": [],
   "source": [
    "# Изменение формата дат.\n",
    "\n",
    "message_data['date_unixtime'] = message_data['date_unixtime'].astype('int')\n",
    "message_data['date'] = pd.to_datetime(message_data['date'])"
   ]
  },
  {
   "cell_type": "code",
   "execution_count": null,
   "metadata": {},
   "outputs": [],
   "source": [
    "# Подсчет числа сообщений для каждого пользователя и сохранение в датафрейм.\n",
    "\n",
    "data_2 = pd.DataFrame(message_data['from'].value_counts(\n",
    ")).reset_index().rename(columns={'index': 'login'})"
   ]
  },
  {
   "cell_type": "code",
   "execution_count": null,
   "metadata": {},
   "outputs": [],
   "source": [
    "# Определение числа сообщений по 99 перцентилю.\n",
    "\n",
    "query_messages = int(np.percentile(data_2['from'], 99))\n"
   ]
  },
  {
   "cell_type": "code",
   "execution_count": null,
   "metadata": {},
   "outputs": [],
   "source": [
    "# Определение самых активных пользователей.\n",
    "\n",
    "data_query = data_2[data_2['from'] > query_messages]"
   ]
  },
  {
   "cell_type": "code",
   "execution_count": null,
   "metadata": {},
   "outputs": [],
   "source": [
    "# Общее количество активных пользователей.\n",
    "\n",
    "print(f'Число пользователей top: {len(data_query)}')"
   ]
  },
  {
   "cell_type": "code",
   "execution_count": null,
   "metadata": {},
   "outputs": [],
   "source": [
    "# Выгружаем данные, самых активных пользователей в excel.\n",
    "\n",
    "data_query.to_excel('top_users.xlsx', index = None)"
   ]
  },
  {
   "cell_type": "code",
   "execution_count": null,
   "metadata": {},
   "outputs": [],
   "source": [
    "# Делаем срез сообщений, самых активных пользователей.\n",
    "\n",
    "top_messages = message_data[message_data['from'].isin(data_query['login'])]"
   ]
  },
  {
   "cell_type": "code",
   "execution_count": null,
   "metadata": {},
   "outputs": [],
   "source": [
    "# Функция для поиска ключевых слов в сообщениях.\n",
    "\n",
    "def return_row(row):\n",
    "    #print(row['text'])\n",
    "    n = row['text']\n",
    "    if isinstance(n, dict):\n",
    "        return 0\n",
    "    if isinstance(n, list):    \n",
    "        return 0\n",
    "    \n",
    "    if search_word in n.lower() or search_word_ru in n.lower():\n",
    "        return 1\n",
    "    return 0\n"
   ]
  },
  {
   "cell_type": "code",
   "execution_count": null,
   "metadata": {
    "scrolled": false
   },
   "outputs": [],
   "source": [
    "# Реализация поиска, можно английский вариант или транслит.\n",
    "\n",
    "search_word = input('Введите поисковый запрос(одно слово):\\n').lower()\n",
    "\n",
    "# Перевод в транслит или на русский текст.\n",
    "search_word_ru = translit(search_word, 'ru')\n",
    "if search_word == search_word_ru:\n",
    "    search_word_ru = translit(search_word, 'ru', reversed= True)\n"
   ]
  },
  {
   "cell_type": "code",
   "execution_count": null,
   "metadata": {},
   "outputs": [],
   "source": [
    "print(search_word_ru)\n",
    "sum(top_messages.apply(return_row,axis = 1))"
   ]
  },
  {
   "cell_type": "code",
   "execution_count": null,
   "metadata": {},
   "outputs": [],
   "source": [
    "top_messages['search'] = top_messages.apply(return_row,axis =1)"
   ]
  },
  {
   "cell_type": "code",
   "execution_count": null,
   "metadata": {},
   "outputs": [],
   "source": [
    "# Выгружаем данные, сообщений самых активных пользователей в excel.\n",
    "\n",
    "top_messages[top_messages['search']==1][['from', 'date', 'date_unixtime','text' ]\n",
    "             ].to_excel('top_messages.xlsx', index=None)\n",
    "\n",
    "print('Данные сохранены в excel.')"
   ]
  }
 ],
 "metadata": {
  "kernelspec": {
   "display_name": "Python 3 (ipykernel)",
   "language": "python",
   "name": "python3"
  },
  "language_info": {
   "codemirror_mode": {
    "name": "ipython",
    "version": 3
   },
   "file_extension": ".py",
   "mimetype": "text/x-python",
   "name": "python",
   "nbconvert_exporter": "python",
   "pygments_lexer": "ipython3",
   "version": "3.8.10"
  }
 },
 "nbformat": 4,
 "nbformat_minor": 4
}
